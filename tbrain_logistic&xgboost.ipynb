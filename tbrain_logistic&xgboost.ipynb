{
  "nbformat": 4,
  "nbformat_minor": 0,
  "metadata": {
    "kernelspec": {
      "display_name": "Python 3",
      "language": "python",
      "name": "python3"
    },
    "language_info": {
      "codemirror_mode": {
        "name": "ipython",
        "version": 3
      },
      "file_extension": ".py",
      "mimetype": "text/x-python",
      "name": "python",
      "nbconvert_exporter": "python",
      "pygments_lexer": "ipython3",
      "version": "3.7.1"
    },
    "colab": {
      "name": "tbrain_logistic&xgboost.ipynb",
      "provenance": [],
      "collapsed_sections": []
    }
  },
  "cells": [
    {
      "cell_type": "markdown",
      "metadata": {
        "id": "_MuK5YDGNZ4I"
      },
      "source": [
        "## 安裝所需資料庫以及檔案"
      ]
    },
    {
      "cell_type": "code",
      "metadata": {
        "colab": {
          "base_uri": "https://localhost:8080/"
        },
        "id": "ZBTDYrKJVk1w",
        "outputId": "4c810d8b-025f-4d94-d4b0-99940697a89e"
      },
      "source": [
        "!gdown --id '1-RMhiBYqSPoRJ3p409vKBskWS1j-MK8C' --output train.csv\n",
        "!gdown --id '1s_sDNzywiPJD6zGWdPOQFzg8CFkxSjsr' --output test.csv"
      ],
      "execution_count": 1,
      "outputs": [
        {
          "output_type": "stream",
          "name": "stdout",
          "text": [
            "Downloading...\n",
            "From: https://drive.google.com/uc?id=1-RMhiBYqSPoRJ3p409vKBskWS1j-MK8C\n",
            "To: /content/train.csv\n",
            "36.9MB [00:00, 117MB/s] \n",
            "Downloading...\n",
            "From: https://drive.google.com/uc?id=1s_sDNzywiPJD6zGWdPOQFzg8CFkxSjsr\n",
            "To: /content/test.csv\n",
            "56.2MB [00:00, 121MB/s] \n"
          ]
        }
      ]
    },
    {
      "cell_type": "code",
      "metadata": {
        "id": "n5Whb7CBVj42"
      },
      "source": [
        "import pandas as pd\n",
        "import re\n",
        "import numpy as np\n",
        "from sklearn.impute import SimpleImputer"
      ],
      "execution_count": 3,
      "outputs": []
    },
    {
      "cell_type": "markdown",
      "metadata": {
        "id": "Pb5bPxcUNi26"
      },
      "source": [
        "## 匯入 train 和 test"
      ]
    },
    {
      "cell_type": "code",
      "metadata": {
        "colab": {
          "base_uri": "https://localhost:8080/"
        },
        "id": "Iu2RHU3FVj43",
        "outputId": "0a014f34-6b65-40b5-94c5-f3188e5119ea"
      },
      "source": [
        "data=pd.read_csv('train.csv',encoding='big5')\n",
        "data.shape"
      ],
      "execution_count": 4,
      "outputs": [
        {
          "output_type": "stream",
          "name": "stderr",
          "text": [
            "/usr/local/lib/python3.7/dist-packages/IPython/core/interactiveshell.py:2718: DtypeWarning: Columns (17,21,22) have mixed types.Specify dtype option on import or set low_memory=False.\n",
            "  interactivity=interactivity, compiler=compiler, result=result)\n"
          ]
        },
        {
          "output_type": "execute_result",
          "data": {
            "text/plain": [
              "(100000, 132)"
            ]
          },
          "metadata": {},
          "execution_count": 4
        }
      ]
    },
    {
      "cell_type": "code",
      "metadata": {
        "colab": {
          "base_uri": "https://localhost:8080/"
        },
        "id": "orWM7JHHVj44",
        "outputId": "5cf22ab2-1a07-4b09-f9fe-c4a3256c526b"
      },
      "source": [
        "data_test = pd.read_csv('test.csv',encoding='big5', low_memory=False)\n",
        "data_test.shape"
      ],
      "execution_count": 5,
      "outputs": [
        {
          "output_type": "execute_result",
          "data": {
            "text/plain": [
              "(150000, 131)"
            ]
          },
          "metadata": {},
          "execution_count": 5
        }
      ]
    },
    {
      "cell_type": "code",
      "metadata": {
        "colab": {
          "base_uri": "https://localhost:8080/",
          "height": 251
        },
        "id": "Jr8PugwtVj45",
        "outputId": "59aa6129-1130-4358-a54c-0ed8a629b5ac"
      },
      "source": [
        "data.head()"
      ],
      "execution_count": 6,
      "outputs": [
        {
          "output_type": "execute_result",
          "data": {
            "text/html": [
              "<div>\n",
              "<style scoped>\n",
              "    .dataframe tbody tr th:only-of-type {\n",
              "        vertical-align: middle;\n",
              "    }\n",
              "\n",
              "    .dataframe tbody tr th {\n",
              "        vertical-align: top;\n",
              "    }\n",
              "\n",
              "    .dataframe thead th {\n",
              "        text-align: right;\n",
              "    }\n",
              "</style>\n",
              "<table border=\"1\" class=\"dataframe\">\n",
              "  <thead>\n",
              "    <tr style=\"text-align: right;\">\n",
              "      <th></th>\n",
              "      <th>CUS_ID</th>\n",
              "      <th>GENDER</th>\n",
              "      <th>AGE</th>\n",
              "      <th>CHARGE_CITY_CD</th>\n",
              "      <th>CONTACT_CITY_CD</th>\n",
              "      <th>EDUCATION_CD</th>\n",
              "      <th>MARRIAGE_CD</th>\n",
              "      <th>LAST_A_CCONTACT_DT</th>\n",
              "      <th>L1YR_A_ISSUE_CNT</th>\n",
              "      <th>LAST_A_ISSUE_DT</th>\n",
              "      <th>L1YR_B_ISSUE_CNT</th>\n",
              "      <th>LAST_B_ISSUE_DT</th>\n",
              "      <th>CHANNEL_A_POL_CNT</th>\n",
              "      <th>CHANNEL_B_POL_CNT</th>\n",
              "      <th>OCCUPATION_CLASS_CD</th>\n",
              "      <th>APC_CNT</th>\n",
              "      <th>INSD_CNT</th>\n",
              "      <th>APC_1ST_AGE</th>\n",
              "      <th>INSD_1ST_AGE</th>\n",
              "      <th>IF_2ND_GEN_IND</th>\n",
              "      <th>APC_1ST_YEARDIF</th>\n",
              "      <th>RFM_R</th>\n",
              "      <th>REBUY_TIMES_CNT</th>\n",
              "      <th>LEVEL</th>\n",
              "      <th>RFM_M_LEVEL</th>\n",
              "      <th>LIFE_CNT</th>\n",
              "      <th>IF_ISSUE_A_IND</th>\n",
              "      <th>IF_ISSUE_B_IND</th>\n",
              "      <th>IF_ISSUE_C_IND</th>\n",
              "      <th>IF_ISSUE_D_IND</th>\n",
              "      <th>IF_ISSUE_E_IND</th>\n",
              "      <th>IF_ISSUE_F_IND</th>\n",
              "      <th>IF_ISSUE_G_IND</th>\n",
              "      <th>IF_ISSUE_H_IND</th>\n",
              "      <th>IF_ISSUE_I_IND</th>\n",
              "      <th>IF_ISSUE_J_IND</th>\n",
              "      <th>IF_ISSUE_K_IND</th>\n",
              "      <th>IF_ISSUE_L_IND</th>\n",
              "      <th>IF_ISSUE_M_IND</th>\n",
              "      <th>IF_ISSUE_N_IND</th>\n",
              "      <th>...</th>\n",
              "      <th>FIRST_CANCER_AMT</th>\n",
              "      <th>ILL_ACCELERATION_AMT</th>\n",
              "      <th>ILL_ADDITIONAL_AMT</th>\n",
              "      <th>LONG_TERM_CARE_AMT</th>\n",
              "      <th>MONTHLY_CARE_AMT</th>\n",
              "      <th>IF_HOUSEHOLD_CLAIM_IND</th>\n",
              "      <th>LIFE_INSD_CNT</th>\n",
              "      <th>IF_ISSUE_INSD_A_IND</th>\n",
              "      <th>IF_ISSUE_INSD_B_IND</th>\n",
              "      <th>IF_ISSUE_INSD_C_IND</th>\n",
              "      <th>IF_ISSUE_INSD_D_IND</th>\n",
              "      <th>IF_ISSUE_INSD_E_IND</th>\n",
              "      <th>IF_ISSUE_INSD_F_IND</th>\n",
              "      <th>IF_ISSUE_INSD_G_IND</th>\n",
              "      <th>IF_ISSUE_INSD_H_IND</th>\n",
              "      <th>IF_ISSUE_INSD_I_IND</th>\n",
              "      <th>IF_ISSUE_INSD_J_IND</th>\n",
              "      <th>IF_ISSUE_INSD_K_IND</th>\n",
              "      <th>IF_ISSUE_INSD_L_IND</th>\n",
              "      <th>IF_ISSUE_INSD_M_IND</th>\n",
              "      <th>IF_ISSUE_INSD_N_IND</th>\n",
              "      <th>IF_ISSUE_INSD_O_IND</th>\n",
              "      <th>IF_ISSUE_INSD_P_IND</th>\n",
              "      <th>IF_ISSUE_INSD_Q_IND</th>\n",
              "      <th>IF_ADD_INSD_F_IND</th>\n",
              "      <th>IF_ADD_INSD_L_IND</th>\n",
              "      <th>IF_ADD_INSD_Q_IND</th>\n",
              "      <th>IF_ADD_INSD_G_IND</th>\n",
              "      <th>IF_ADD_INSD_R_IND</th>\n",
              "      <th>IF_ADD_INSD_IND</th>\n",
              "      <th>L1YR_GROSS_PRE_AMT</th>\n",
              "      <th>CUST_9_SEGMENTS_CD</th>\n",
              "      <th>FINANCETOOLS_A</th>\n",
              "      <th>FINANCETOOLS_B</th>\n",
              "      <th>FINANCETOOLS_C</th>\n",
              "      <th>FINANCETOOLS_D</th>\n",
              "      <th>FINANCETOOLS_E</th>\n",
              "      <th>FINANCETOOLS_F</th>\n",
              "      <th>FINANCETOOLS_G</th>\n",
              "      <th>Y1</th>\n",
              "    </tr>\n",
              "  </thead>\n",
              "  <tbody>\n",
              "    <tr>\n",
              "      <th>0</th>\n",
              "      <td>3418</td>\n",
              "      <td>M</td>\n",
              "      <td>低</td>\n",
              "      <td>A1</td>\n",
              "      <td>A1</td>\n",
              "      <td>NaN</td>\n",
              "      <td>NaN</td>\n",
              "      <td>Y</td>\n",
              "      <td>0</td>\n",
              "      <td>N</td>\n",
              "      <td>0</td>\n",
              "      <td>N</td>\n",
              "      <td>0</td>\n",
              "      <td>0</td>\n",
              "      <td>1.0</td>\n",
              "      <td>0</td>\n",
              "      <td>0</td>\n",
              "      <td>低</td>\n",
              "      <td>低</td>\n",
              "      <td>N</td>\n",
              "      <td>0.046512</td>\n",
              "      <td>低</td>\n",
              "      <td>低</td>\n",
              "      <td>3.0</td>\n",
              "      <td>3.0</td>\n",
              "      <td>中</td>\n",
              "      <td>N</td>\n",
              "      <td>N</td>\n",
              "      <td>N</td>\n",
              "      <td>N</td>\n",
              "      <td>N</td>\n",
              "      <td>N</td>\n",
              "      <td>N</td>\n",
              "      <td>N</td>\n",
              "      <td>N</td>\n",
              "      <td>N</td>\n",
              "      <td>N</td>\n",
              "      <td>N</td>\n",
              "      <td>N</td>\n",
              "      <td>Y</td>\n",
              "      <td>...</td>\n",
              "      <td>NaN</td>\n",
              "      <td>NaN</td>\n",
              "      <td>NaN</td>\n",
              "      <td>NaN</td>\n",
              "      <td>NaN</td>\n",
              "      <td>N</td>\n",
              "      <td>0.015625</td>\n",
              "      <td>N</td>\n",
              "      <td>N</td>\n",
              "      <td>N</td>\n",
              "      <td>N</td>\n",
              "      <td>N</td>\n",
              "      <td>N</td>\n",
              "      <td>N</td>\n",
              "      <td>N</td>\n",
              "      <td>N</td>\n",
              "      <td>N</td>\n",
              "      <td>N</td>\n",
              "      <td>N</td>\n",
              "      <td>N</td>\n",
              "      <td>Y</td>\n",
              "      <td>N</td>\n",
              "      <td>N</td>\n",
              "      <td>N</td>\n",
              "      <td>NaN</td>\n",
              "      <td>NaN</td>\n",
              "      <td>NaN</td>\n",
              "      <td>NaN</td>\n",
              "      <td>NaN</td>\n",
              "      <td>N</td>\n",
              "      <td>0.000174</td>\n",
              "      <td>C</td>\n",
              "      <td>NaN</td>\n",
              "      <td>NaN</td>\n",
              "      <td>NaN</td>\n",
              "      <td>NaN</td>\n",
              "      <td>NaN</td>\n",
              "      <td>NaN</td>\n",
              "      <td>NaN</td>\n",
              "      <td>N</td>\n",
              "    </tr>\n",
              "    <tr>\n",
              "      <th>1</th>\n",
              "      <td>4302</td>\n",
              "      <td>M</td>\n",
              "      <td>低</td>\n",
              "      <td>A1</td>\n",
              "      <td>A1</td>\n",
              "      <td>NaN</td>\n",
              "      <td>NaN</td>\n",
              "      <td>Y</td>\n",
              "      <td>0</td>\n",
              "      <td>N</td>\n",
              "      <td>0</td>\n",
              "      <td>N</td>\n",
              "      <td>0</td>\n",
              "      <td>0</td>\n",
              "      <td>1.0</td>\n",
              "      <td>0</td>\n",
              "      <td>0</td>\n",
              "      <td>低</td>\n",
              "      <td>中</td>\n",
              "      <td>N</td>\n",
              "      <td>0.046512</td>\n",
              "      <td>低</td>\n",
              "      <td>低</td>\n",
              "      <td>5.0</td>\n",
              "      <td>3.0</td>\n",
              "      <td>中</td>\n",
              "      <td>N</td>\n",
              "      <td>N</td>\n",
              "      <td>N</td>\n",
              "      <td>N</td>\n",
              "      <td>N</td>\n",
              "      <td>N</td>\n",
              "      <td>N</td>\n",
              "      <td>N</td>\n",
              "      <td>N</td>\n",
              "      <td>N</td>\n",
              "      <td>N</td>\n",
              "      <td>N</td>\n",
              "      <td>N</td>\n",
              "      <td>N</td>\n",
              "      <td>...</td>\n",
              "      <td>NaN</td>\n",
              "      <td>NaN</td>\n",
              "      <td>NaN</td>\n",
              "      <td>NaN</td>\n",
              "      <td>NaN</td>\n",
              "      <td>N</td>\n",
              "      <td>0.015625</td>\n",
              "      <td>N</td>\n",
              "      <td>N</td>\n",
              "      <td>N</td>\n",
              "      <td>N</td>\n",
              "      <td>N</td>\n",
              "      <td>N</td>\n",
              "      <td>N</td>\n",
              "      <td>N</td>\n",
              "      <td>N</td>\n",
              "      <td>N</td>\n",
              "      <td>N</td>\n",
              "      <td>N</td>\n",
              "      <td>N</td>\n",
              "      <td>N</td>\n",
              "      <td>N</td>\n",
              "      <td>Y</td>\n",
              "      <td>N</td>\n",
              "      <td>NaN</td>\n",
              "      <td>NaN</td>\n",
              "      <td>NaN</td>\n",
              "      <td>NaN</td>\n",
              "      <td>NaN</td>\n",
              "      <td>N</td>\n",
              "      <td>0.008724</td>\n",
              "      <td>A</td>\n",
              "      <td>NaN</td>\n",
              "      <td>NaN</td>\n",
              "      <td>NaN</td>\n",
              "      <td>NaN</td>\n",
              "      <td>NaN</td>\n",
              "      <td>NaN</td>\n",
              "      <td>NaN</td>\n",
              "      <td>N</td>\n",
              "    </tr>\n",
              "    <tr>\n",
              "      <th>2</th>\n",
              "      <td>5545</td>\n",
              "      <td>M</td>\n",
              "      <td>低</td>\n",
              "      <td>A1</td>\n",
              "      <td>A1</td>\n",
              "      <td>1.0</td>\n",
              "      <td>0.0</td>\n",
              "      <td>Y</td>\n",
              "      <td>1</td>\n",
              "      <td>Y</td>\n",
              "      <td>0</td>\n",
              "      <td>N</td>\n",
              "      <td>1</td>\n",
              "      <td>0</td>\n",
              "      <td>1.0</td>\n",
              "      <td>1</td>\n",
              "      <td>0</td>\n",
              "      <td>低</td>\n",
              "      <td>中</td>\n",
              "      <td>Y</td>\n",
              "      <td>0.000000</td>\n",
              "      <td>低</td>\n",
              "      <td>低</td>\n",
              "      <td>5.0</td>\n",
              "      <td>3.0</td>\n",
              "      <td>中</td>\n",
              "      <td>N</td>\n",
              "      <td>N</td>\n",
              "      <td>N</td>\n",
              "      <td>N</td>\n",
              "      <td>N</td>\n",
              "      <td>N</td>\n",
              "      <td>N</td>\n",
              "      <td>N</td>\n",
              "      <td>N</td>\n",
              "      <td>N</td>\n",
              "      <td>N</td>\n",
              "      <td>N</td>\n",
              "      <td>N</td>\n",
              "      <td>Y</td>\n",
              "      <td>...</td>\n",
              "      <td>0.00000</td>\n",
              "      <td>0.0</td>\n",
              "      <td>0.0</td>\n",
              "      <td>0.0</td>\n",
              "      <td>0.0</td>\n",
              "      <td>N</td>\n",
              "      <td>0.031250</td>\n",
              "      <td>N</td>\n",
              "      <td>N</td>\n",
              "      <td>N</td>\n",
              "      <td>N</td>\n",
              "      <td>N</td>\n",
              "      <td>N</td>\n",
              "      <td>N</td>\n",
              "      <td>N</td>\n",
              "      <td>Y</td>\n",
              "      <td>N</td>\n",
              "      <td>N</td>\n",
              "      <td>N</td>\n",
              "      <td>N</td>\n",
              "      <td>Y</td>\n",
              "      <td>N</td>\n",
              "      <td>N</td>\n",
              "      <td>N</td>\n",
              "      <td>NaN</td>\n",
              "      <td>NaN</td>\n",
              "      <td>NaN</td>\n",
              "      <td>NaN</td>\n",
              "      <td>NaN</td>\n",
              "      <td>N</td>\n",
              "      <td>0.005359</td>\n",
              "      <td>A</td>\n",
              "      <td>Y</td>\n",
              "      <td>N</td>\n",
              "      <td>N</td>\n",
              "      <td>N</td>\n",
              "      <td>N</td>\n",
              "      <td>N</td>\n",
              "      <td>N</td>\n",
              "      <td>N</td>\n",
              "    </tr>\n",
              "    <tr>\n",
              "      <th>3</th>\n",
              "      <td>7207</td>\n",
              "      <td>M</td>\n",
              "      <td>低</td>\n",
              "      <td>A1</td>\n",
              "      <td>A1</td>\n",
              "      <td>NaN</td>\n",
              "      <td>0.0</td>\n",
              "      <td>Y</td>\n",
              "      <td>0</td>\n",
              "      <td>N</td>\n",
              "      <td>0</td>\n",
              "      <td>N</td>\n",
              "      <td>0</td>\n",
              "      <td>0</td>\n",
              "      <td>1.0</td>\n",
              "      <td>0</td>\n",
              "      <td>0</td>\n",
              "      <td>低</td>\n",
              "      <td>中</td>\n",
              "      <td>N</td>\n",
              "      <td>0.162791</td>\n",
              "      <td>中高</td>\n",
              "      <td>低</td>\n",
              "      <td>5.0</td>\n",
              "      <td>3.0</td>\n",
              "      <td>中</td>\n",
              "      <td>N</td>\n",
              "      <td>N</td>\n",
              "      <td>N</td>\n",
              "      <td>N</td>\n",
              "      <td>N</td>\n",
              "      <td>N</td>\n",
              "      <td>N</td>\n",
              "      <td>N</td>\n",
              "      <td>N</td>\n",
              "      <td>N</td>\n",
              "      <td>N</td>\n",
              "      <td>N</td>\n",
              "      <td>N</td>\n",
              "      <td>N</td>\n",
              "      <td>...</td>\n",
              "      <td>NaN</td>\n",
              "      <td>NaN</td>\n",
              "      <td>NaN</td>\n",
              "      <td>NaN</td>\n",
              "      <td>NaN</td>\n",
              "      <td>N</td>\n",
              "      <td>0.015625</td>\n",
              "      <td>N</td>\n",
              "      <td>N</td>\n",
              "      <td>N</td>\n",
              "      <td>N</td>\n",
              "      <td>N</td>\n",
              "      <td>N</td>\n",
              "      <td>N</td>\n",
              "      <td>N</td>\n",
              "      <td>N</td>\n",
              "      <td>N</td>\n",
              "      <td>N</td>\n",
              "      <td>N</td>\n",
              "      <td>N</td>\n",
              "      <td>N</td>\n",
              "      <td>N</td>\n",
              "      <td>Y</td>\n",
              "      <td>N</td>\n",
              "      <td>NaN</td>\n",
              "      <td>NaN</td>\n",
              "      <td>NaN</td>\n",
              "      <td>NaN</td>\n",
              "      <td>NaN</td>\n",
              "      <td>N</td>\n",
              "      <td>0.000000</td>\n",
              "      <td>C</td>\n",
              "      <td>NaN</td>\n",
              "      <td>NaN</td>\n",
              "      <td>NaN</td>\n",
              "      <td>NaN</td>\n",
              "      <td>NaN</td>\n",
              "      <td>NaN</td>\n",
              "      <td>NaN</td>\n",
              "      <td>N</td>\n",
              "    </tr>\n",
              "    <tr>\n",
              "      <th>4</th>\n",
              "      <td>7213</td>\n",
              "      <td>M</td>\n",
              "      <td>低</td>\n",
              "      <td>A1</td>\n",
              "      <td>A1</td>\n",
              "      <td>1.0</td>\n",
              "      <td>0.0</td>\n",
              "      <td>N</td>\n",
              "      <td>0</td>\n",
              "      <td>N</td>\n",
              "      <td>0</td>\n",
              "      <td>N</td>\n",
              "      <td>1</td>\n",
              "      <td>0</td>\n",
              "      <td>1.0</td>\n",
              "      <td>1</td>\n",
              "      <td>0</td>\n",
              "      <td>低</td>\n",
              "      <td>低</td>\n",
              "      <td>Y</td>\n",
              "      <td>0.116279</td>\n",
              "      <td>中</td>\n",
              "      <td>低</td>\n",
              "      <td>2.0</td>\n",
              "      <td>3.0</td>\n",
              "      <td>中</td>\n",
              "      <td>N</td>\n",
              "      <td>N</td>\n",
              "      <td>N</td>\n",
              "      <td>N</td>\n",
              "      <td>N</td>\n",
              "      <td>N</td>\n",
              "      <td>N</td>\n",
              "      <td>N</td>\n",
              "      <td>N</td>\n",
              "      <td>N</td>\n",
              "      <td>N</td>\n",
              "      <td>N</td>\n",
              "      <td>N</td>\n",
              "      <td>Y</td>\n",
              "      <td>...</td>\n",
              "      <td>0.04717</td>\n",
              "      <td>0.0</td>\n",
              "      <td>0.0</td>\n",
              "      <td>0.0</td>\n",
              "      <td>0.0</td>\n",
              "      <td>Y</td>\n",
              "      <td>0.062500</td>\n",
              "      <td>N</td>\n",
              "      <td>N</td>\n",
              "      <td>N</td>\n",
              "      <td>N</td>\n",
              "      <td>N</td>\n",
              "      <td>Y</td>\n",
              "      <td>N</td>\n",
              "      <td>N</td>\n",
              "      <td>Y</td>\n",
              "      <td>N</td>\n",
              "      <td>N</td>\n",
              "      <td>N</td>\n",
              "      <td>N</td>\n",
              "      <td>Y</td>\n",
              "      <td>N</td>\n",
              "      <td>Y</td>\n",
              "      <td>N</td>\n",
              "      <td>NaN</td>\n",
              "      <td>NaN</td>\n",
              "      <td>NaN</td>\n",
              "      <td>NaN</td>\n",
              "      <td>NaN</td>\n",
              "      <td>N</td>\n",
              "      <td>0.000603</td>\n",
              "      <td>C</td>\n",
              "      <td>NaN</td>\n",
              "      <td>NaN</td>\n",
              "      <td>NaN</td>\n",
              "      <td>NaN</td>\n",
              "      <td>NaN</td>\n",
              "      <td>NaN</td>\n",
              "      <td>NaN</td>\n",
              "      <td>N</td>\n",
              "    </tr>\n",
              "  </tbody>\n",
              "</table>\n",
              "<p>5 rows × 132 columns</p>\n",
              "</div>"
            ],
            "text/plain": [
              "   CUS_ID GENDER AGE  ... FINANCETOOLS_F FINANCETOOLS_G  Y1\n",
              "0    3418      M   低  ...            NaN            NaN   N\n",
              "1    4302      M   低  ...            NaN            NaN   N\n",
              "2    5545      M   低  ...              N              N   N\n",
              "3    7207      M   低  ...            NaN            NaN   N\n",
              "4    7213      M   低  ...            NaN            NaN   N\n",
              "\n",
              "[5 rows x 132 columns]"
            ]
          },
          "metadata": {},
          "execution_count": 6
        }
      ]
    },
    {
      "cell_type": "markdown",
      "metadata": {
        "id": "R-ihux5jVj4-"
      },
      "source": [
        "## NULL值檢查"
      ]
    },
    {
      "cell_type": "code",
      "metadata": {
        "colab": {
          "base_uri": "https://localhost:8080/"
        },
        "id": "-1zYMxVNVj5A",
        "outputId": "eb8c2056-5997-41cd-bfda-983ceff33b05"
      },
      "source": [
        "pd.isnull(data)\n",
        "data.dropna(how='all').shape \n",
        "#沒有全部皆為NaN值的列\n",
        "a = data[data.applymap(lambda x: str(x).isspace()) == True].isnull().sum() \n",
        "print(data.shape,\"\\n\",sum(a)) #沒有空格欄位"
      ],
      "execution_count": 7,
      "outputs": [
        {
          "output_type": "stream",
          "name": "stdout",
          "text": [
            "(100000, 132) \n",
            " 13200000\n"
          ]
        }
      ]
    },
    {
      "cell_type": "code",
      "metadata": {
        "colab": {
          "base_uri": "https://localhost:8080/"
        },
        "id": "xnupm9soVj5D",
        "outputId": "ed89a14c-876a-4076-dfcd-a229b3d9a4c1"
      },
      "source": [
        "data.isnull().sum()"
      ],
      "execution_count": 9,
      "outputs": [
        {
          "output_type": "execute_result",
          "data": {
            "text/plain": [
              "CUS_ID                 0\n",
              "GENDER               683\n",
              "AGE                    0\n",
              "CHARGE_CITY_CD         0\n",
              "CONTACT_CITY_CD        0\n",
              "                   ...  \n",
              "FINANCETOOLS_D     62641\n",
              "FINANCETOOLS_E     62641\n",
              "FINANCETOOLS_F     62641\n",
              "FINANCETOOLS_G     62641\n",
              "Y1                     0\n",
              "Length: 132, dtype: int64"
            ]
          },
          "metadata": {},
          "execution_count": 9
        }
      ]
    },
    {
      "cell_type": "code",
      "metadata": {
        "colab": {
          "base_uri": "https://localhost:8080/"
        },
        "id": "qlZAzq9BPCNd",
        "outputId": "19f77e9e-d061-4ce6-b692-93fe70666cc1"
      },
      "source": [
        "data.shape"
      ],
      "execution_count": 10,
      "outputs": [
        {
          "output_type": "execute_result",
          "data": {
            "text/plain": [
              "(100000, 132)"
            ]
          },
          "metadata": {},
          "execution_count": 10
        }
      ]
    },
    {
      "cell_type": "markdown",
      "metadata": {
        "id": "rwkF-4zRVj5F"
      },
      "source": [
        "## Categorical columns"
      ]
    },
    {
      "cell_type": "code",
      "metadata": {
        "colab": {
          "base_uri": "https://localhost:8080/"
        },
        "id": "2J3VBMCQVj5F",
        "outputId": "d0b63919-6a6b-4abd-a35e-0a8640be7c55"
      },
      "source": [
        "object_data = data.select_dtypes(include='object').columns\n",
        "len(object_data)"
      ],
      "execution_count": 12,
      "outputs": [
        {
          "output_type": "execute_result",
          "data": {
            "text/plain": [
              "90"
            ]
          },
          "metadata": {},
          "execution_count": 12
        }
      ]
    },
    {
      "cell_type": "markdown",
      "metadata": {
        "id": "rUDEwhjDVj5G"
      },
      "source": [
        "### 1) ordinal feature (replace NaN with 0)\n",
        "針對「有序」的類別型 : 使用由小到大的整數作替代，空值用「零值」做填充\n"
      ]
    },
    {
      "cell_type": "code",
      "metadata": {
        "id": "SgjHqS8KVj5H"
      },
      "source": [
        "def order_features(df):\n",
        "    order_mapping = {'低':1,'中':2,'中高':3,'高':4}\n",
        "    col=['AGE','APC_1ST_AGE','INSD_1ST_AGE','RFM_R','REBUY_TIMES_CNT','LIFE_CNT']\n",
        "    for i in col:\n",
        "        df[i] = df[i].map(order_mapping)\n",
        "        df[i] = df[i].fillna(0)\n",
        "    return df"
      ],
      "execution_count": 13,
      "outputs": []
    },
    {
      "cell_type": "code",
      "metadata": {
        "id": "xzPBL4TYVj5H"
      },
      "source": [
        "data_object_1 = order_features(data.copy())"
      ],
      "execution_count": 14,
      "outputs": []
    },
    {
      "cell_type": "code",
      "metadata": {
        "id": "pzlrTFYyVj5I"
      },
      "source": [
        "test_object_1 = order_features(data_test.copy())"
      ],
      "execution_count": 15,
      "outputs": []
    },
    {
      "cell_type": "markdown",
      "metadata": {
        "id": "-JKeafX6Vj5I"
      },
      "source": [
        "### 2-1) nominal feature_Y/N (replace NaN with 2)\n",
        "針對「Y/N」的特徵值 : 用「1/0」數值作替代，空值以「2」做填補"
      ]
    },
    {
      "cell_type": "code",
      "metadata": {
        "id": "soin8N3WVj5J"
      },
      "source": [
        "def Y_N(df):\n",
        "    count = 0\n",
        "    transform={'Y':1,'N':0}\n",
        "    for i in df.columns:\n",
        "        if re.match(r'IF|FINANCETOOLS|X_|IM_IS|LAST|^[A-Z].*IND$', i):\n",
        "            df[i] = df[i].map(transform)\n",
        "            df[i] = df[i].fillna(2)\n",
        "            count+=1\n",
        "    print(\"number of Y/N columns ：\", count) \n",
        "    \n",
        "    # Using 'try' to make sure not to raise error when fitting test data \n",
        "    try:\n",
        "        df['Y1']=df['Y1'].map(transform)\n",
        "    except:\n",
        "        pass\n",
        "\n",
        "    return df"
      ],
      "execution_count": 16,
      "outputs": []
    },
    {
      "cell_type": "code",
      "metadata": {
        "colab": {
          "base_uri": "https://localhost:8080/"
        },
        "id": "aCRhHlv4Vj5K",
        "outputId": "c13373eb-00a2-4a19-e286-edf57364f574"
      },
      "source": [
        "data_object_2 = Y_N(data_object_1)"
      ],
      "execution_count": 17,
      "outputs": [
        {
          "output_type": "stream",
          "name": "stdout",
          "text": [
            "number of Y/N columns ： 79\n"
          ]
        }
      ]
    },
    {
      "cell_type": "code",
      "metadata": {
        "colab": {
          "base_uri": "https://localhost:8080/"
        },
        "id": "TNl44fx-Vj5L",
        "outputId": "a15a3667-44ad-4244-8ddd-1638fe6a40d6"
      },
      "source": [
        "test_object_2 = Y_N(test_object_1)"
      ],
      "execution_count": 18,
      "outputs": [
        {
          "output_type": "stream",
          "name": "stdout",
          "text": [
            "number of Y/N columns ： 79\n"
          ]
        }
      ]
    },
    {
      "cell_type": "code",
      "metadata": {
        "colab": {
          "base_uri": "https://localhost:8080/"
        },
        "id": "mPngowxiW2f3",
        "outputId": "26f31363-faef-4140-945b-4a9f36f6c5b2"
      },
      "source": [
        "#列出所有有NaN值的欄位\n",
        "nan_col = []\n",
        "for i in data_object_2.columns:\n",
        "  if data_object_2[i].isna().any():\n",
        "    nan_col.append(i)\n",
        "nan_col"
      ],
      "execution_count": 92,
      "outputs": [
        {
          "output_type": "execute_result",
          "data": {
            "text/plain": [
              "['GENDER',\n",
              " 'EDUCATION_CD',\n",
              " 'MARRIAGE_CD',\n",
              " 'OCCUPATION_CLASS_CD',\n",
              " 'APC_1ST_YEARDIF',\n",
              " 'LEVEL',\n",
              " 'RFM_M_LEVEL',\n",
              " 'ANNUAL_PREMIUM_AMT',\n",
              " 'ANNUAL_INCOME_AMT',\n",
              " 'L1YR_C_CNT',\n",
              " 'INSD_LAST_YEARDIF_CNT',\n",
              " 'BMI',\n",
              " 'TERMINATION_RATE',\n",
              " 'DIEBENEFIT_AMT',\n",
              " 'DIEACCIDENT_AMT',\n",
              " 'POLICY_VALUE_AMT',\n",
              " 'ANNUITY_AMT',\n",
              " 'EXPIRATION_AMT',\n",
              " 'ACCIDENT_HOSPITAL_REC_AMT',\n",
              " 'DISEASES_HOSPITAL_REC_AMT',\n",
              " 'OUTPATIENT_SURGERY_AMT',\n",
              " 'INPATIENT_SURGERY_AMT',\n",
              " 'PAY_LIMIT_MED_MISC_AMT',\n",
              " 'FIRST_CANCER_AMT',\n",
              " 'ILL_ACCELERATION_AMT',\n",
              " 'ILL_ADDITIONAL_AMT',\n",
              " 'LONG_TERM_CARE_AMT',\n",
              " 'MONTHLY_CARE_AMT']"
            ]
          },
          "metadata": {},
          "execution_count": 92
        }
      ]
    },
    {
      "cell_type": "markdown",
      "metadata": {
        "id": "HwK0vXzIVj5M"
      },
      "source": [
        "###  2-2) nominal feature_others (make NaN become a kind of category)\n",
        "針對「名目特徵」: 將空值也當作一種類別進行dummy變數的轉換\n",
        "\n",
        "ps : 「MARRIAGE_CD」雖然也是屬於數值型態的「0,1,2」，但因為無法做比較所以也做相同處理\n"
      ]
    },
    {
      "cell_type": "code",
      "metadata": {
        "id": "wbB6J-xef81U"
      },
      "source": [
        "def OHE(df):\n",
        "    col = df.select_dtypes(include='object').columns\n",
        "    col = col.append(pd.Index([\"MARRIAGE_CD\"])) # !!! It's a categorical column in float data type !!! \n",
        "    print('The remaining categorical columns：', len(col), \"\\n\", col)\n",
        "    \n",
        "    c3 = {}\n",
        "    for c in col:\n",
        "        c3[c] = 'ohe_' + c\n",
        "        df[c] = df[c].fillna(\"NaN\") # to make \"NaN\" also become a kind of category\n",
        "        \n",
        "    #df = df.fillna(0)  #if use Fill_NA function\n",
        "    df = pd.get_dummies(df, columns=col, drop_first=True, prefix=c3)\n",
        "    \n",
        "    print('Shape：', df.shape)\n",
        "    return df"
      ],
      "execution_count": 19,
      "outputs": []
    },
    {
      "cell_type": "code",
      "metadata": {
        "colab": {
          "base_uri": "https://localhost:8080/"
        },
        "id": "36UqqHIDf8da",
        "outputId": "b61b46ef-11a7-4876-f846-a9d4e1fb252d"
      },
      "source": [
        "data_object_3 = OHE(data_object_2)"
      ],
      "execution_count": 20,
      "outputs": [
        {
          "output_type": "stream",
          "name": "stdout",
          "text": [
            "The remaining categorical columns： 5 \n",
            " Index(['GENDER', 'CHARGE_CITY_CD', 'CONTACT_CITY_CD', 'CUST_9_SEGMENTS_CD',\n",
            "       'MARRIAGE_CD'],\n",
            "      dtype='object')\n",
            "Shape： (100000, 153)\n"
          ]
        }
      ]
    },
    {
      "cell_type": "code",
      "metadata": {
        "colab": {
          "base_uri": "https://localhost:8080/"
        },
        "id": "YYZ6aCSLiWLS",
        "outputId": "e478ec12-8123-4b54-b3d7-91d80dca0108"
      },
      "source": [
        "test_object_3 = OHE(test_object_2)"
      ],
      "execution_count": 21,
      "outputs": [
        {
          "output_type": "stream",
          "name": "stdout",
          "text": [
            "The remaining categorical columns： 5 \n",
            " Index(['GENDER', 'CHARGE_CITY_CD', 'CONTACT_CITY_CD', 'CUST_9_SEGMENTS_CD',\n",
            "       'MARRIAGE_CD'],\n",
            "      dtype='object')\n",
            "Shape： (150000, 152)\n"
          ]
        }
      ]
    },
    {
      "cell_type": "markdown",
      "metadata": {
        "id": "z8Jo-P8xLDeq"
      },
      "source": [
        "### NaN\n",
        "針對「剩餘數值型」的NaN值 : 使用該欄位的 mean 做填補"
      ]
    },
    {
      "cell_type": "code",
      "metadata": {
        "id": "p1gTX8fjVj5P"
      },
      "source": [
        "def Fill_NaN(df, method):\n",
        "    imr = SimpleImputer(missing_values = np.nan, strategy=method).fit(df.values)\n",
        "    imputed_data = imr.transform(df.values)\n",
        "    \n",
        "    #turn numpy.ndarray back to dataframe\n",
        "    col={}\n",
        "    for j,c in enumerate(df.columns):\n",
        "        col[c] = imputed_data[:, j]\n",
        "        \n",
        "    df = pd.DataFrame(col)\n",
        "    return df"
      ],
      "execution_count": 22,
      "outputs": []
    },
    {
      "cell_type": "code",
      "metadata": {
        "scrolled": true,
        "id": "QbHbm-X6Vj5P"
      },
      "source": [
        "data_object_final = Fill_NaN(data_object_3, 'mean')\n",
        "data_test_final = Fill_NaN(test_object_3, 'mean')"
      ],
      "execution_count": 23,
      "outputs": []
    },
    {
      "cell_type": "markdown",
      "metadata": {
        "id": "30Ptx-oJVj5V"
      },
      "source": [
        "## 用 Logistic Regression 做預測"
      ]
    },
    {
      "cell_type": "code",
      "metadata": {
        "id": "drONhC_fVj5W"
      },
      "source": [
        "from sklearn.model_selection import train_test_split\n",
        "from sklearn.linear_model import LogisticRegression\n",
        "from sklearn.model_selection import StratifiedKFold,RandomizedSearchCV\n",
        "from sklearn.metrics import roc_auc_score,confusion_matrix,roc_curve\n",
        "\n",
        "X,y = data_object_final.drop(['Y1','CUS_ID'],axis=1), data_object_final['Y1']\n",
        "X_train, X_test, y_train, y_test=train_test_split(X, y, test_size=0.3, random_state=1, stratify=y)"
      ],
      "execution_count": 24,
      "outputs": []
    },
    {
      "cell_type": "code",
      "metadata": {
        "colab": {
          "base_uri": "https://localhost:8080/"
        },
        "id": "UsAbv8M8f3lu",
        "outputId": "38a55d0c-f6d0-4d16-d566-695705d5a821"
      },
      "source": [
        "!pip install bayesian-optimization"
      ],
      "execution_count": null,
      "outputs": [
        {
          "output_type": "stream",
          "name": "stdout",
          "text": [
            "Collecting bayesian-optimization\n",
            "  Downloading bayesian-optimization-1.2.0.tar.gz (14 kB)\n",
            "Requirement already satisfied: numpy>=1.9.0 in /usr/local/lib/python3.7/dist-packages (from bayesian-optimization) (1.19.5)\n",
            "Requirement already satisfied: scipy>=0.14.0 in /usr/local/lib/python3.7/dist-packages (from bayesian-optimization) (1.4.1)\n",
            "Requirement already satisfied: scikit-learn>=0.18.0 in /usr/local/lib/python3.7/dist-packages (from bayesian-optimization) (0.22.2.post1)\n",
            "Requirement already satisfied: joblib>=0.11 in /usr/local/lib/python3.7/dist-packages (from scikit-learn>=0.18.0->bayesian-optimization) (1.0.1)\n",
            "Building wheels for collected packages: bayesian-optimization\n",
            "  Building wheel for bayesian-optimization (setup.py) ... \u001b[?25l\u001b[?25hdone\n",
            "  Created wheel for bayesian-optimization: filename=bayesian_optimization-1.2.0-py3-none-any.whl size=11685 sha256=5699f1c8e9b05ba9fb1fd11d3a8d988660dce75dc55c4220a02c518df5b66ebd\n",
            "  Stored in directory: /root/.cache/pip/wheels/fd/9b/71/f127d694e02eb40bcf18c7ae9613b88a6be4470f57a8528c5b\n",
            "Successfully built bayesian-optimization\n",
            "Installing collected packages: bayesian-optimization\n",
            "Successfully installed bayesian-optimization-1.2.0\n"
          ]
        }
      ]
    },
    {
      "cell_type": "code",
      "metadata": {
        "id": "B1bHyjGJf4KP"
      },
      "source": [
        "import pandas as pd\n",
        "import numpy as np\n",
        "import matplotlib.pyplot as plt\n",
        "import seaborn as sns \n",
        "from sklearn.model_selection import train_test_split, StratifiedKFold\n",
        "from scipy import stats\n",
        "from sklearn import metrics\n",
        "from bayes_opt import BayesianOptimization\n",
        "import lightgbm as lgb\n",
        "import warnings\n",
        "import time\n",
        "import gc"
      ],
      "execution_count": null,
      "outputs": []
    },
    {
      "cell_type": "code",
      "metadata": {
        "colab": {
          "base_uri": "https://localhost:8080/"
        },
        "id": "6nCju8fTVj5W",
        "outputId": "e7adb7a8-368a-4115-b729-84f35b187676"
      },
      "source": [
        "lr = LogisticRegression(C=50, class_weight='balanced', random_state=1)\n",
        "lr.fit(X_train,y_train)"
      ],
      "execution_count": 25,
      "outputs": [
        {
          "output_type": "stream",
          "name": "stderr",
          "text": [
            "/usr/local/lib/python3.7/dist-packages/sklearn/linear_model/_logistic.py:940: ConvergenceWarning: lbfgs failed to converge (status=1):\n",
            "STOP: TOTAL NO. of ITERATIONS REACHED LIMIT.\n",
            "\n",
            "Increase the number of iterations (max_iter) or scale the data as shown in:\n",
            "    https://scikit-learn.org/stable/modules/preprocessing.html\n",
            "Please also refer to the documentation for alternative solver options:\n",
            "    https://scikit-learn.org/stable/modules/linear_model.html#logistic-regression\n",
            "  extra_warning_msg=_LOGISTIC_SOLVER_CONVERGENCE_MSG)\n"
          ]
        },
        {
          "output_type": "execute_result",
          "data": {
            "text/plain": [
              "LogisticRegression(C=50, class_weight='balanced', dual=False,\n",
              "                   fit_intercept=True, intercept_scaling=1, l1_ratio=None,\n",
              "                   max_iter=100, multi_class='auto', n_jobs=None, penalty='l2',\n",
              "                   random_state=1, solver='lbfgs', tol=0.0001, verbose=0,\n",
              "                   warm_start=False)"
            ]
          },
          "metadata": {},
          "execution_count": 25
        }
      ]
    },
    {
      "cell_type": "code",
      "metadata": {
        "colab": {
          "base_uri": "https://localhost:8080/"
        },
        "id": "QjJadetPVj5X",
        "outputId": "3797e549-8ea2-4651-d194-1938fa44ada8"
      },
      "source": [
        "from sklearn.metrics import accuracy_score  \n",
        "from sklearn.metrics import roc_auc_score\n",
        "from sklearn.metrics import classification_report\n",
        "\n",
        "score = accuracy_score(y_test, lr.predict(X_test))\n",
        "roc=roc_auc_score(y_test, lr.predict_proba(X_test)[:,1])\n",
        "#cr = classification_report(y_test, lr.predict(X_test))\n",
        "print(score)\n",
        "print(roc)"
      ],
      "execution_count": 26,
      "outputs": [
        {
          "output_type": "stream",
          "name": "stdout",
          "text": [
            "0.7453333333333333\n",
            "0.8033034297052154\n"
          ]
        }
      ]
    },
    {
      "cell_type": "code",
      "metadata": {
        "colab": {
          "base_uri": "https://localhost:8080/",
          "height": 404
        },
        "id": "_V78JqI2Vj5X",
        "outputId": "bca61be4-5592-449e-ec01-fe6d404fb070"
      },
      "source": [
        "y_pred = lr.predict_proba(X_test)\n",
        "lr.score(X,y)\n",
        "\n",
        "#plot\n",
        "import matplotlib.pyplot as plt\n",
        "y_proba = lr.predict_proba(X)[:,1]\n",
        "fpr,tpr,th = roc_curve(y,y_proba)\n",
        "\n",
        "plt.figure(figsize=(14,6))\n",
        "plt.plot(fpr,tpr,color='r')\n",
        "plt.plot([0,1],[0,1],color='b')\n",
        "plt.title('Reciever operating Charactaristics')\n",
        "plt.xlabel('False positive rate')\n",
        "plt.ylabel('True positive rate')\n",
        "plt.show()"
      ],
      "execution_count": 27,
      "outputs": [
        {
          "output_type": "display_data",
          "data": {
            "image/png": "[encoded data removed]",
            "text/plain": [
              "<Figure size 1008x432 with 1 Axes>"
            ]
          },
          "metadata": {
            "needs_background": "light"
          }
        }
      ]
    },
    {
      "cell_type": "markdown",
      "metadata": {
        "id": "XBAZn7UAu5Ug"
      },
      "source": [
        "## 使用 xgboost 預測"
      ]
    },
    {
      "cell_type": "code",
      "metadata": {
        "id": "sJ_UFb0LtOtE"
      },
      "source": [
        "from xgboost.sklearn import XGBClassifier"
      ],
      "execution_count": 28,
      "outputs": []
    },
    {
      "cell_type": "code",
      "metadata": {
        "id": "ybMX3XMW4Mht"
      },
      "source": [
        "#先把dataframe轉成np.array型態\n",
        "xg_X_train = X_train.values\n",
        "xg_X_test = X_test.values\n",
        "xg_y_train = y_train.values\n",
        "xg_y_test = y_test.values"
      ],
      "execution_count": null,
      "outputs": []
    },
    {
      "cell_type": "code",
      "metadata": {
        "id": "-43IOSjVtYDL"
      },
      "source": [
        "Xgbc=XGBClassifier(random_state=2019)\n",
        "Xgbc.fit(xg_X_train,xg_y_train)\n",
        "y_xgbc_pred=Xgbc.predict(xg_X_test)\n",
        "Xgbc_score=accuracy_score(xg_y_test,y_xgbc_pred) #準確率"
      ],
      "execution_count": 30,
      "outputs": []
    },
    {
      "cell_type": "code",
      "metadata": {
        "colab": {
          "base_uri": "https://localhost:8080/"
        },
        "id": "x896kUeHt1e_",
        "outputId": "25c3930d-7707-4e30-e075-938b9a7c8041"
      },
      "source": [
        "Xgbc_score"
      ],
      "execution_count": 31,
      "outputs": [
        {
          "output_type": "execute_result",
          "data": {
            "text/plain": [
              "0.9799666666666667"
            ]
          },
          "metadata": {},
          "execution_count": 31
        }
      ]
    },
    {
      "cell_type": "code",
      "metadata": {
        "id": "CbCx51ewuMiU"
      },
      "source": [
        "Xgbc_auc=roc_auc_score(xg_y_test,y_pred[:,1])"
      ],
      "execution_count": 46,
      "outputs": []
    },
    {
      "cell_type": "code",
      "metadata": {
        "colab": {
          "base_uri": "https://localhost:8080/"
        },
        "id": "kkjfNWXzuVai",
        "outputId": "6c9c4722-e469-4123-f8de-f3a67cca9739"
      },
      "source": [
        "Xgbc_auc"
      ],
      "execution_count": 47,
      "outputs": [
        {
          "output_type": "execute_result",
          "data": {
            "text/plain": [
              "0.840504903628118"
            ]
          },
          "metadata": {},
          "execution_count": 47
        }
      ]
    },
    {
      "cell_type": "code",
      "metadata": {
        "colab": {
          "base_uri": "https://localhost:8080/",
          "height": 404
        },
        "id": "JxzV9xpbuBfk",
        "outputId": "3cec083f-7121-49cb-8755-2bce7fc5e418"
      },
      "source": [
        "y_pred = Xgbc.predict_proba(xg_X_test)\n",
        "fpr,tpr,th = roc_curve(xg_y_test,y_pred[:,1])\n",
        "\n",
        "plt.figure(figsize=(14,6))\n",
        "plt.plot(fpr,tpr,color='r')\n",
        "plt.plot([0,1],[0,1],color='b')\n",
        "plt.title('Reciever operating Charactaristics')\n",
        "plt.xlabel('False positive rate')\n",
        "plt.ylabel('True positive rate')\n",
        "plt.show()"
      ],
      "execution_count": 39,
      "outputs": [
        {
          "output_type": "display_data",
          "data": {
            "image/png": "[encoded data removed]",
            "text/plain": [
              "<Figure size 1008x432 with 1 Axes>"
            ]
          },
          "metadata": {
            "needs_background": "light"
          }
        }
      ]
    },
    {
      "cell_type": "code",
      "metadata": {
        "colab": {
          "base_uri": "https://localhost:8080/"
        },
        "id": "svgrlZz23Rpi",
        "outputId": "a0fc2d4d-c085-4906-de04-bb27670b4f2f"
      },
      "source": [
        "from sklearn.metrics import classification_report\n",
        "print(classification_report(xg_y_test,y_xgbc_pred))"
      ],
      "execution_count": 51,
      "outputs": [
        {
          "output_type": "stream",
          "name": "stdout",
          "text": [
            "              precision    recall  f1-score   support\n",
            "\n",
            "         0.0       0.98      1.00      0.99     29400\n",
            "         1.0       0.45      0.01      0.02       600\n",
            "\n",
            "    accuracy                           0.98     30000\n",
            "   macro avg       0.72      0.50      0.50     30000\n",
            "weighted avg       0.97      0.98      0.97     30000\n",
            "\n"
          ]
        }
      ]
    },
    {
      "cell_type": "code",
      "metadata": {
        "colab": {
          "base_uri": "https://localhost:8080/"
        },
        "id": "S_JjdNrU1MFG",
        "outputId": "dae10961-b3fc-4075-ca98-a88624e4ae29"
      },
      "source": [
        "num_1 = 0\n",
        "num_0 = 0\n",
        "for i in y_xgbc_pred:\n",
        "  if i==0:\n",
        "    num_0+=1\n",
        "  elif i==1:\n",
        "    num_1+=1\n",
        "print('number of 1 is %d and number of 0 is %d'%(num_1,num_0))"
      ],
      "execution_count": 52,
      "outputs": [
        {
          "output_type": "stream",
          "name": "stdout",
          "text": [
            "number of 1 is 11 and number of 0 is 29989\n"
          ]
        }
      ]
    },
    {
      "cell_type": "code",
      "metadata": {
        "colab": {
          "base_uri": "https://localhost:8080/"
        },
        "id": "nxhFcycL5DTq",
        "outputId": "1a26ae64-4366-4df6-fc15-f0a33d33e760"
      },
      "source": [
        "num_1 = 0\n",
        "num_0 = 0\n",
        "for i in xg_y_test:\n",
        "  if i==0:\n",
        "    num_0+=1\n",
        "  elif i==1:\n",
        "    num_1+=1\n",
        "print('number of 1 is %d and number of 0 is %d'%(num_1,num_0))"
      ],
      "execution_count": 53,
      "outputs": [
        {
          "output_type": "stream",
          "name": "stdout",
          "text": [
            "number of 1 is 600 and number of 0 is 29400\n"
          ]
        }
      ]
    },
    {
      "cell_type": "markdown",
      "metadata": {
        "id": "PVcZDcmkVj5Y"
      },
      "source": [
        "## Test Data"
      ]
    },
    {
      "cell_type": "code",
      "metadata": {
        "id": "El4zijv8Vj5Y",
        "outputId": "b150778e-3762-4963-cb32-26c0336aa73f"
      },
      "source": [
        "data_test= pd.read_csv('test.csv',encoding='big5')\n",
        "data_test = data_test.fillna(\"NaN\")\n",
        "data_test = OHE(data_test)\n",
        "data_test = Y_N(data_test)\n",
        "data_test = order_features(data_test)\n",
        "\n",
        "imr = imr.fit(data_test.values)\n",
        "imputed_data = imr.transform(data_test.values)\n",
        "\n",
        "col={}\n",
        "for j,c in enumerate(data_test.columns):\n",
        "    col[c] = imputed_data[:, j]\n",
        "data_test_final=pd.DataFrame(col)"
      ],
      "execution_count": null,
      "outputs": [
        {
          "name": "stderr",
          "output_type": "stream",
          "text": [
            "C:\\Users\\doggy\\Anaconda3\\lib\\site-packages\\IPython\\core\\interactiveshell.py:2785: DtypeWarning: Columns (17,21,22) have mixed types. Specify dtype option on import or set low_memory=False.\n",
            "  interactivity=interactivity, compiler=compiler, result=result)\n"
          ]
        },
        {
          "name": "stdout",
          "output_type": "stream",
          "text": [
            "Categorical columns in dataset ['GENDER', 'CHARGE_CITY_CD', 'CONTACT_CITY_CD', 'MARRIAGE_CD', 'CUST_9_SEGMENTS_CD']\n",
            "(150000, 152)\n"
          ]
        }
      ]
    },
    {
      "cell_type": "code",
      "metadata": {
        "id": "YfGAdsmcVj5Z"
      },
      "source": [
        "lr = LogisticRegression(C=50, class_weight='balanced', random_state=1)\n",
        "X,y = data_final.drop('Y1',axis=1), data_final['Y1']\n",
        "lr.fit(X,y)\n",
        "y_pred = lr.predict_proba(data_test_final)[:,1]\n",
        "#lr.score(X,y)\n",
        "y_pred_final=pd.Series(y_pred).apply(lambda x: \"Y\" if x > 0.5 else \"N\")\n",
        "\n",
        "#Submit Prediction\n",
        "submit_test=pd.read_csv('submit_test.csv',encoding='big5')\n",
        "submit = pd.DataFrame({'CUS_ID':submit_test['CUS_ID'],'Ypred':y_pred_final})\n",
        "submit.to_csv('test1_SimpleLogistic.csv',index=False)"
      ],
      "execution_count": null,
      "outputs": []
    },
    {
      "cell_type": "markdown",
      "metadata": {
        "id": "FO__tZK0Vj5a"
      },
      "source": [
        "## Feature Extraction - RandomForest "
      ]
    },
    {
      "cell_type": "code",
      "metadata": {
        "id": "XoP9VBY_Vj5a",
        "colab": {
          "base_uri": "https://localhost:8080/"
        },
        "outputId": "8ee2078c-0938-4b55-bb1f-1e6186522c1f"
      },
      "source": [
        "from sklearn.ensemble import RandomForestClassifier\n",
        "from sklearn.feature_selection import SelectFromModel\n",
        "\n",
        "feat_labels = data_object_final.drop(['Y1','CUS_ID'],axis=1).columns\n",
        "\n",
        "forest = RandomForestClassifier(n_estimators=1024,\n",
        "                                random_state=1)\n",
        "\n",
        "forest.fit(X_train, y_train)\n",
        "importances = forest.feature_importances_\n",
        "indices = np.argsort(importances)[::-1]\n",
        "\n",
        "sfm = SelectFromModel(forest, threshold=0.01, prefit=True)\n",
        "X_selected = sfm.transform(X_train)\n",
        "\n",
        "for f in range(X_selected.shape[1]):\n",
        "    print(\"%2d) %-*s %f\" % (f + 1, 30, \n",
        "                            feat_labels[indices[f]], \n",
        "                            importances[indices[f]]))"
      ],
      "execution_count": 63,
      "outputs": [
        {
          "output_type": "stream",
          "name": "stdout",
          "text": [
            " 1) DIEBENEFIT_AMT                 0.036341\n",
            " 2) DIEACCIDENT_AMT                0.036085\n",
            " 3) INSD_LAST_YEARDIF_CNT          0.033043\n",
            " 4) ANNUAL_INCOME_AMT              0.029726\n",
            " 5) L1YR_GROSS_PRE_AMT             0.026913\n",
            " 6) BMI                            0.025911\n",
            " 7) ANNUAL_PREMIUM_AMT             0.025588\n",
            " 8) TOOL_VISIT_1YEAR_CNT           0.025027\n",
            " 9) APC_1ST_YEARDIF                0.022976\n",
            "10) INSD_1ST_AGE                   0.018152\n",
            "11) ACCIDENT_HOSPITAL_REC_AMT      0.018071\n",
            "12) INPATIENT_SURGERY_AMT          0.016216\n",
            "13) LIFE_INSD_CNT                  0.015859\n",
            "14) EDUCATION_CD                   0.015507\n",
            "15) OCCUPATION_CLASS_CD            0.015470\n",
            "16) ANNUITY_AMT                    0.015453\n",
            "17) CHANNEL_A_POL_CNT              0.015218\n",
            "18) DISEASES_HOSPITAL_REC_AMT      0.014891\n",
            "19) OUTPATIENT_SURGERY_AMT         0.014598\n",
            "20) MONTHLY_CARE_AMT               0.013365\n",
            "21) FIRST_CANCER_AMT               0.012659\n",
            "22) AGE                            0.012021\n",
            "23) IM_CNT                         0.011099\n",
            "24) APC_1ST_AGE                    0.010479\n",
            "25) RFM_M_LEVEL                    0.010292\n"
          ]
        }
      ]
    },
    {
      "cell_type": "code",
      "metadata": {
        "id": "Ju5e16leVj5b",
        "colab": {
          "base_uri": "https://localhost:8080/",
          "height": 297
        },
        "outputId": "9d9866d1-6715-4549-d288-76502b053aaf"
      },
      "source": [
        "plt.title('Feature Importance')\n",
        "plt.bar(range(X_selected.shape[1]), \n",
        "        importances[indices[range(X_selected.shape[1])]],\n",
        "        align='center')\n",
        "\n",
        "plt.xticks(range(X_selected.shape[1]), \n",
        "           feat_labels[indices], rotation=90)\n",
        "plt.xlim([-1, X_selected.shape[1]])\n",
        "plt.tight_layout()\n",
        "\n",
        "plt.show()"
      ],
      "execution_count": 64,
      "outputs": [
        {
          "output_type": "display_data",
          "data": {
            "image/png": "[encoded data removed]",
            "text/plain": [
              "<Figure size 432x288 with 1 Axes>"
            ]
          },
          "metadata": {
            "needs_background": "light"
          }
        }
      ]
    },
    {
      "cell_type": "code",
      "metadata": {
        "colab": {
          "base_uri": "https://localhost:8080/"
        },
        "id": "Eg7V744tOIAq",
        "outputId": "74e5449b-fa18-4907-bc91-c95e1dc9941f"
      },
      "source": [
        "new_col=feat_labels[indices[range(X_selected.shape[1])]]\n",
        "X,y = data_object_final[new_col], data_object_final['Y1']\n",
        "X_train, X_test, y_train, y_test=train_test_split(X, y, test_size=0.3, random_state=1, stratify=y)\n",
        "xg_X_train, xg_X_test, xg_y_train, xg_y_test = X_train.values, X_test.values, y_train.values, y_test.values\n",
        "Xgbc=XGBClassifier(random_state=2019)\n",
        "Xgbc.fit(xg_X_train,xg_y_train)"
      ],
      "execution_count": 65,
      "outputs": [
        {
          "output_type": "execute_result",
          "data": {
            "text/plain": [
              "XGBClassifier(base_score=0.5, booster='gbtree', colsample_bylevel=1,\n",
              "              colsample_bynode=1, colsample_bytree=1, gamma=0,\n",
              "              learning_rate=0.1, max_delta_step=0, max_depth=3,\n",
              "              min_child_weight=1, missing=None, n_estimators=100, n_jobs=1,\n",
              "              nthread=None, objective='binary:logistic', random_state=2019,\n",
              "              reg_alpha=0, reg_lambda=1, scale_pos_weight=1, seed=None,\n",
              "              silent=None, subsample=1, verbosity=1)"
            ]
          },
          "metadata": {},
          "execution_count": 65
        }
      ]
    },
    {
      "cell_type": "code",
      "metadata": {
        "colab": {
          "base_uri": "https://localhost:8080/"
        },
        "id": "-jhwjQS3OzTu",
        "outputId": "e5ee9467-bd31-49b0-9271-228a499d639b"
      },
      "source": [
        "y_xgbc_pred=Xgbc.predict(xg_X_test)\n",
        "Xgbc_score=accuracy_score(xg_y_test,y_xgbc_pred) #準確率\n",
        "y_pred = Xgbc.predict_proba(xg_X_test)\n",
        "Xgbc_auc=roc_auc_score(xg_y_test,y_pred[:,1])\n",
        "print('accuracy is %f and roc is %f'%(Xgbc_score,Xgbc_auc))"
      ],
      "execution_count": 66,
      "outputs": [
        {
          "output_type": "stream",
          "name": "stdout",
          "text": [
            "accuracy is 0.979967 and roc is 0.832039\n"
          ]
        }
      ]
    },
    {
      "cell_type": "code",
      "metadata": {
        "id": "AV-o7vTHVj5b",
        "colab": {
          "base_uri": "https://localhost:8080/"
        },
        "outputId": "d60766c2-cb89-4936-dbf2-68c9ba927cdf"
      },
      "source": [
        "new_col=feat_labels[indices[range(X_selected.shape[1])]]\n",
        "X,y = data_object_final[new_col], data_object_final['Y1']\n",
        "X_train, X_test, y_train, y_test=train_test_split(X, y, test_size=0.3, random_state=1, stratify=y)\n",
        "lr = LogisticRegression(C=50, class_weight='balanced', random_state=1)\n",
        "lr.fit(X_train,y_train)\n",
        "roc=roc_auc_score(y_test, lr.predict_proba(X_test)[:,1])"
      ],
      "execution_count": 67,
      "outputs": [
        {
          "output_type": "stream",
          "name": "stderr",
          "text": [
            "/usr/local/lib/python3.7/dist-packages/sklearn/linear_model/_logistic.py:940: ConvergenceWarning: lbfgs failed to converge (status=1):\n",
            "STOP: TOTAL NO. of ITERATIONS REACHED LIMIT.\n",
            "\n",
            "Increase the number of iterations (max_iter) or scale the data as shown in:\n",
            "    https://scikit-learn.org/stable/modules/preprocessing.html\n",
            "Please also refer to the documentation for alternative solver options:\n",
            "    https://scikit-learn.org/stable/modules/linear_model.html#logistic-regression\n",
            "  extra_warning_msg=_LOGISTIC_SOLVER_CONVERGENCE_MSG)\n"
          ]
        }
      ]
    },
    {
      "cell_type": "code",
      "metadata": {
        "id": "YH1BR6n7Vj5c",
        "colab": {
          "base_uri": "https://localhost:8080/"
        },
        "outputId": "7452b5d0-6e6b-4413-ccd1-581273da9029"
      },
      "source": [
        "roc"
      ],
      "execution_count": 68,
      "outputs": [
        {
          "output_type": "execute_result",
          "data": {
            "text/plain": [
              "0.7577489229024943"
            ]
          },
          "metadata": {},
          "execution_count": 68
        }
      ]
    }
  ]
}